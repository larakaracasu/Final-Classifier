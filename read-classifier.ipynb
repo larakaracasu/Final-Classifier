{
 "cells": [
  {
   "cell_type": "code",
   "execution_count": 2,
   "metadata": {
    "extensions": {
     "jupyter_dashboards": {
      "version": 1,
      "views": {
       "grid_default": {},
       "report_default": {}
      }
     }
    }
   },
   "outputs": [
    {
     "name": "stdout",
     "output_type": "stream",
     "text": [
      "['', 'url', 'title', 'tag', 'likelihood']\n",
      "['0', 'https://www.cbsnews.com/news/nursing-homes-covid-19-vaccine-staff-medicare-medicaid-funds-watch-live-stream-today-2021-08-18/', 'Biden to tie vaccines for nursing home staff to Medicare and Medicaid funding ', 'health', '0.976821065']\n",
      "['1', 'https://www.cbsnews.com/news/afghanistan-taliban-us-evacuations-americans-kabul/', 'Taliban tightens grip on Kabul airport as thousands of Americans await evacuation ', 'international news', '0.558106959']\n",
      "['2', 'https://www.cbsnews.com/news/caldor-fire-california-growth-video/', 'Satellite video shows the \"explosive growth\" of the Caldor Fire in California ', 'technology', '0.960740268']\n",
      "['3', 'https://www.cbsnews.com/news/covid-19-vaccine-boosters-watch-live-today-08-18-2021/', 'U.S. health officials recommend COVID-19 vaccine boosters 8 months after second shot ', 'health', '0.961519539']\n",
      "['4', 'https://www.cbsnews.com/news/immigration-asylum-rule-biden-adminstration/', 'U.S. moves to reshape and speed up asylum processing along the southern border ', 'government', '0.798262537']\n",
      "['5', 'https://www.cbsnews.com/news/r-kelly-criminal-case-new-york/', \"R. Kelly's criminal case gets underway in NYC as some accusers plan to testify \", 'international news', '0.863757074']\n",
      "['6', 'https://www.cbsnews.com/news/t-mobile-hacked-data-40-million-customers/', 'T-Mobile says hackers stole personal data from millions of customers ', 'business', '0.962716639']\n",
      "['7', 'https://www.cbsnews.com/news/afghanistan-probe-democrats-congress/', 'Democrats say they\\'ll probe \"worst-case scenario\" in Afghanistan ', 'politics', '0.941818595']\n",
      "['8', 'https://www.cbsnews.com/news/obama-presidential-library-supreme-court-protect-our-parks-construction/', 'Chicago group asks Supreme Court to halt work on Obama presidential library ', 'government', '0.892224133']\n",
      "['9', 'https://www.cbsnews.com/news/ashleigh-johnson-olympics-gold-diversity-aquatic-sports/', 'Ashleigh Johnson on winning Olympic gold and her \"mission\" to bring diversity to aquatic sports ', 'sports', '0.982828975']\n",
      "['10', 'https://www.cbsnews.com/news/olympics-2020-closing-ceremony-tokyo-covid-pandemic/', 'Tokyo Olympics 2020: Closing ceremony marks end of strangest games on record ', 'international news', '0.981074214']\n",
      "['11', 'https://www.cbsnews.com/news/jessica-springsteen-silver-equestrian-team-jumping-olympics/', 'Jessica Springsteen helps team bring home silver in equestrian team jumping final ', 'sports', '0.994038522']\n",
      "['12', 'https://www.cbsnews.com/news/allyson-felix-wins-11th-medal-more-than-any-other-u-s-athlete-in-olympic-track-history/', 'Allyson Felix wins 11th medal, more than any other U.S. athlete in Olympic track history ', 'sports', '0.981705785']\n",
      "['13', 'https://www.cbsnews.com/news/team-usa-mens-basketball-olympics-wins-gold-medal-france/', \"Team USA men's basketball team defeats France to win fourth consecutive gold medal \", 'sports', '0.997727275']\n",
      "['14', 'https://www.cbsnews.com/news/quinn-transgender-nonbinary-olympics-medal-canada/', 'Canadian soccer player Quinn makes history as first openly transgender and nonbinary Olympian to win medal ', 'sports', '0.992959023']\n",
      "['15', 'https://www.cbsnews.com/news/simone-biles-tokyo-olympics-impressive/', 'Nastia Liukin says what Simone Biles did in Tokyo is more impressive than any of her past Olympic wins ', 'sports', '0.97231859']\n",
      "['16', 'https://www.cbsnews.com/news/allyson-felix-olympic-track-medals-bronze-400m/', 'Allyson Felix becomes the most decorated woman in Olympic track history with 10th medal ', 'sports', '0.993936718']\n",
      "['17', 'https://www.cbsnews.com/news/april-ross-alix-klineman-beach-volleyball-gold-team-usa/', \"Team USA's April Ross and Alix Klineman defeat Australia to win gold in beach volleyball \", 'sports', '0.994820833']\n",
      "['18', 'https://www.cbsnews.com/news/belarus-krystina-timanovskaya-olympics-shine-light-on-repression-of-athletes/', 'Olympics shine light on repression of athletes in Belarus ', 'international news', '0.991754413']\n",
      "['19', 'https://www.cbsnews.com/news/nevin-harrison-tokyo-olympics-gold-womens-200-meter-canoe-sprint/', \"American teen Nevin Harrison wins gold in historic women's 200-meter canoe sprint \", 'sports', '0.989672124']\n",
      "['20', 'https://www.cbsnews.com/news/uswnt-soccer-olympics-bronze-medal-australia/', \"U.S. women's soccer team beats Australia 4-3 to capture bronze in Tokyo \", 'sports', '0.99684006']\n",
      "['21', 'https://www.cbsnews.com/news/4x100m-relay-tokyo-olympics-team-usa-fails-advance/', 'Team USA men fail to advance in 4x100 relay at Tokyo Olympics and draw widespread criticism ', 'international news', '0.992154598']\n",
      "['22', 'https://www.cbsnews.com/news/tokyo-olympics-ryan-crouser-shot-put-team-usa-gold-medal/', \"Ryan Crouser of Team USA wins gold in men's shot put at Summer Games, breaks his own Olympic record \", 'sports', '0.99584198']\n",
      "['23', 'https://www.cbsnews.com/news/vashti-cunningham-olympics-high-jump-track-and-field/', 'Vashti Cunningham, daughter of NFL legend, makes a leap of faith at Tokyo Olympics ', 'sports', '0.993154824']\n",
      "['24', 'https://www.cbsnews.com/news/aliphine-tuliamuk-olympic-marathoner-allowed-to-bring-her-nursing-baby-to-tokyo-after-pushing-for-change/', 'Olympic marathoner allowed to bring her nursing baby to Tokyo after pushing for change ', 'international news', '0.967446744']\n",
      "['25', 'https://www.cbsnews.com/news/tamyra-mensah-stock-olympics-wrestling-black-woman-gold-medal/', 'Tamyra Mensah-Stock becomes first U.S. Black woman to win gold in freestyle wrestling ', 'sports', '0.97996515']\n",
      "['26', 'https://www.cbsnews.com/news/simone-biles-aunt-dies-olympics/', 'Simone Biles reveals her aunt died unexpectedly during Tokyo Olympics ', 'celebrity', '0.98450923']\n",
      "['27', 'https://www.cbsnews.com/news/indonesia-olympic-gold-medalists-greysia-polii-apriyani-rahayu-badminton/', 'Indonesia showers gold medalists with gifts of cows, cash and meatball restaurants after winning badminton final ', 'sports', '0.975810409']\n",
      "['28', 'https://www.cbsnews.com/news/sky-brown-13-year-old-skateboarder-wins-medal-tokyo-olympics/', 'Sky Brown becomes third 13-year-old skateboarder to win medal at Tokyo Olympics ', 'sports', '0.991699159']\n",
      "['29', 'https://www.cbsnews.com/news/rafael-nadal-mental-health/', 'Rafael Nadal discusses overcoming his own physical and mental health issues ', 'health', '0.98893857']\n",
      "['30', 'https://www.cbsnews.com/news/gabby-thomas-womens-200-meter-bronze-medal-olympics/', \"Harvard grad Gabby Thomas wins bronze in women's 200-meter final in Tokyo \", 'sports', '0.990328729']\n",
      "['31', 'https://www.cbsnews.com/news/simone-biles-olympics-gymnastics-balance-beam-bronze/', 'Simone Biles wins bronze in balance beam after withdrawing from other Tokyo Olympics events ', 'sports', '0.992042065']\n",
      "['32', 'https://www.cbsnews.com/news/rafael-nadal-simone-biles-tokyo-olympics/', 'Rafael Nadal \"100%\" supports Simone Biles\\' decision to withdraw from Olympic events ', 'sports', '0.986919761']\n",
      "['33', 'https://www.cbsnews.com/news/afghanistan-press-conference-mark-milley-lloyd-austin-watch-live-stream-today-2021-08-18/', 'Defense Secretary says military will \"get as many people out\" of Afghanistan \"in the time available\" ', 'international news', '0.642029464']\n",
      "['34', 'https://www.cbsnews.com/news/zakia-khudadadi-afghanistan-paralympics/', 'She was supposed to be Afghanistan\\'s first female Paralympian. Now, the Taliban has turned her dream into a \"nightmare.\" ', 'sports', '0.977072358']\n",
      "['35', 'https://www.cbsnews.com/news/immigration-asylum-rule-biden-adminstration/', 'U.S. moves to reshape and speed up asylum processing along the southern border ', 'government', '0.798262537']\n",
      "['36', 'https://www.cbsnews.com/news/afghanistan-us-intelligence-increasingly-fragile-taliban-takeover/', 'U.S. intelligence warned Afghan forces were increasingly fragile in run-up to Taliban takeover ', 'international news', '0.674337626']\n",
      "['37', 'https://www.cbsnews.com/news/afghanistan-veterans-react-kabul-taliban/', '\"It\\'s like your heart being torn out\": Veterans of the war in Afghanistan reflect on the fall of Kabul and two decades of war ', 'international news', '0.619522452']\n",
      "['38', 'https://www.cbsnews.com/news/haiti-earthquake-death-toll/', 'Death toll from Haiti earthquake climbs to 1,941, with over 9,900 injured ', 'international news', '0.976946712']\n",
      "['39', 'https://www.cbsnews.com/news/python-supermarket-australia-snake-catcher/', 'A 10-foot python surprised a woman in a supermarket spice aisle. She was a trained snake catcher. ', 'international news', '0.332077622']\n",
      "['40', 'https://www.cbsnews.com/news/afghanistan-china-taliban-security-xinjiang-resources-rare-earth-minerals/', 'With complex hopes and fears over Afghanistan, China likely to treat Taliban \"as an equal\" ', 'international news', '0.890188992']\n",
      "['41', 'https://www.cbsnews.com/news/afghanistan-taliban-us-evacuations-americans-kabul/', 'Taliban tightens grip on Kabul airport as thousands of Americans await evacuation ', 'international news', '0.558106959']\n",
      "['42', 'https://www.cbsnews.com/news/pope-francis-covid-19-vaccine-act-of-love/', 'Pope Francis urges people to get COVID-19 vaccine as \"an act of love\" ', 'health', '0.934952736']\n",
      "['43', 'https://www.cbsnews.com/news/america-withdrawl-afghanistan-taliban-fallout/', 'U.S. grapples with fallout from Afghanistan withdrawal with Taliban back in control ', 'international news', '0.838901579']\n",
      "['44', 'https://www.cbsnews.com/news/human-remains-plane-departing-afghanistan/', 'Human remains found in wheel well of U.S. military aircraft that departed Afghanistan ', 'international news', '0.753624916']\n",
      "['45', 'https://www.cbsnews.com/news/wildfire-in-greece-france-deaths-damage-global-warming-neglect/', 'Anger and evacuations as deadly wildfires char France and Greece ', 'international news', '0.99725759']\n",
      "['46', 'https://www.cbsnews.com/news/iran-producing-more-uranium-metal-international-atomic-energy-agency/', 'Iran producing more uranium metal that can be used to make a nuclear bomb, U.N. watchdog says ', 'international news', '0.982385755']\n",
      "['47', 'https://www.cbsnews.com/news/afghanistan-refugees-help-george-w-bush/', 'Former President George W. Bush says U.S. must help Afghan refugees ', 'international news', '0.678543806']\n",
      "['48', 'https://www.cbsnews.com/news/afghanistan-press-conference-mark-milley-lloyd-austin-watch-live-stream-today-2021-08-18/', 'Defense Secretary says military will \"get as many people out\" of Afghanistan \"in the time available\" ', 'international news', '0.642029464']\n",
      "['49', 'https://www.cbsnews.com/news/zakia-khudadadi-afghanistan-paralympics/', 'She was supposed to be Afghanistan\\'s first female Paralympian. Now, the Taliban has turned her dream into a \"nightmare.\" ', 'sports', '0.977072358']\n",
      "['50', 'https://www.cbsnews.com/news/immigration-asylum-rule-biden-adminstration/', 'U.S. moves to reshape and speed up asylum processing along the southern border ', 'government', '0.798262537']\n",
      "['51', 'https://www.cbsnews.com/news/afghanistan-us-intelligence-increasingly-fragile-taliban-takeover/', 'U.S. intelligence warned Afghan forces were increasingly fragile in run-up to Taliban takeover ', 'international news', '0.674337626']\n",
      "['52', 'https://www.cbsnews.com/news/afghanistan-veterans-react-kabul-taliban/', '\"It\\'s like your heart being torn out\": Veterans of the war in Afghanistan reflect on the fall of Kabul and two decades of war ', 'international news', '0.619522452']\n",
      "['53', 'https://www.cbsnews.com/news/tropical-depression-fred-new-york/', 'Tropical Depression Fred threatens mudslides and flash floods in upstate New York ', 'international news', '0.323044509']\n",
      "['54', 'https://www.cbsnews.com/news/nursing-homes-covid-19-vaccine-staff-medicare-medicaid-funds-watch-live-stream-today-2021-08-18/', 'Biden to tie vaccines for nursing home staff to Medicare and Medicaid funding ', 'health', '0.976821065']\n",
      "['55', 'https://www.cbsnews.com/news/opioids-oxycontin-purdue-pharma/', 'Former head of OxyContin maker Purdue Pharma denies blame for opioid crisis ', 'business', '0.650806606']\n",
      "['56', 'https://www.cbsnews.com/news/texas-school-mask-dress-code-abbott-ban/', \"Texas school board adds masks to dress code to get around Gov. Abbott's ban on mask mandates in schools \", 'politics', '0.908571661']\n",
      "['57', 'https://www.cbsnews.com/news/caldor-fire-california-growth-video/', 'Satellite video shows the \"explosive growth\" of the Caldor Fire in California ', 'technology', '0.960740268']\n",
      "['58', 'https://www.cbsnews.com/news/nursing-homes-covid-19-vaccine-staff-medicare-medicaid-funds-watch-live-stream-today-2021-08-18/', 'Biden to tie vaccines for nursing home staff to Medicare and Medicaid funding ', 'health', '0.976821065']\n",
      "['59', 'https://www.cbsnews.com/news/afghanistan-press-conference-mark-milley-lloyd-austin-watch-live-stream-today-2021-08-18/', 'Defense Secretary says military will \"get as many people out\" of Afghanistan \"in the time available\" ', 'international news', '0.642029464']\n",
      "['60', 'https://www.cbsnews.com/news/missouri-gun-law-unconstitutional-justice-department/', 'Justice Department says new Missouri gun law unconstitutional, hurts public safety ', 'government', '0.931133628']\n",
      "['61', 'https://www.cbsnews.com/news/afghanistan-probe-democrats-congress/', 'Democrats say they\\'ll probe \"worst-case scenario\" in Afghanistan ', 'politics', '0.941818595']\n",
      "['62', 'https://www.cbsnews.com/news/afghanistan-iraq-wars-debt-6-trillion-interest/', \"Americans could owe $6.5 trillion for wars in Afghanistan and Iraq â€” and that's just the interest \", 'government', '0.86373359']\n",
      "['63', 'https://www.cbsnews.com/news/las-vegas-raiders-to-make-fans-prove-theyve-been-vaccinated/', \"Las Vegas Raiders to make fans prove they've been vaccinated \", 'sports', '0.995946825']\n",
      "['64', 'https://www.cbsnews.com/news/t-mobile-hacked-data-40-million-customers/', 'T-Mobile says hackers stole personal data from millions of customers ', 'business', '0.962716639']\n",
      "['65', 'https://www.cbsnews.com/news/u-s-probing-autopilot-problems-on-765000-tesla-vehicles/', 'U.S. probing Autopilot problems on 765,000 Tesla vehicles ', 'technology', '0.975137174']\n",
      "['66', 'https://www.cbsnews.com/news/boeing-starliner-space-capsule-launch-delay/', 'Boeing gives up on near-term launch of Starliner space capsule ', 'technology', '0.971731424']\n",
      "['67', 'https://www.cbsnews.com/news/richard-branson-virgin-galactic-stock/', 'Richard Branson sells $300 million in Virgin Galactic stock after rocket ride ', 'technology', '0.962334335']\n",
      "['68', 'https://www.cbsnews.com/news/hurricane-hunting-drones-new-tool-intensifying-storms/', 'New hurricane-hunting drones deployed to help warn of intensifying storms: \"This could be transformational\" ', 'technology', '0.993920863']\n",
      "['69', 'https://www.cbsnews.com/news/covid-19-vaccine-booster-shot-dose-8-months/', 'U.S. to recommend COVID-19 vaccine booster shots 8 months after second dose ', 'health', '0.945382833']\n",
      "['70', 'https://www.cbsnews.com/news/tsa-extend-mask-mandate-january-2022/', 'TSA to extend mask mandate through January 2022 ', 'business', '0.760297358']\n",
      "['71', 'https://www.cbsnews.com/news/louisiana-covid-19-misinformation-hospitals-two-pandemics/', 'Louisiana doctors fight surge in COVID patients and misinformation over vaccines: \"We have two pandemics\" ', 'health', '0.934951901']\n",
      "['72', 'https://www.cbsnews.com/news/dixie-fire-wind-forecast-power-outages-latest-2021-08-16/', 'Dixie Fire latest: Windy weather and power cuts bring new worries to Northern California residents ', 'international news', '0.138296515']\n",
      "['73', 'https://www.cbsnews.com/news/mandatory-cutbacks-in-colorado-river-water-supply-will-hammer-arizona-farmers/', 'Mandatory cutbacks in Colorado River water supply to hammer Arizona farmers ', 'business', '0.797862947']\n",
      "['74', 'https://www.cbsnews.com/news/opioids-oxycontin-purdue-pharma/', 'Former head of OxyContin maker Purdue Pharma denies blame for opioid crisis ', 'business', '0.650806606']\n",
      "['75', 'https://www.cbsnews.com/news/covid-19-vaccine-record-card-cdc-2021-04-21/', \"You've been vaccinated. So what should you do with your vaccine record card? \", 'health', '0.977892339']\n",
      "['76', 'https://www.cbsnews.com/news/covid-vaccine-booster-shot-cdc-effectiveness/', 'CDC warns of a \"significant decline\" in vaccine effectiveness for some, prompting booster dose decision ', 'science', '0.95521915']\n",
      "['77', 'https://www.cbsnews.com/news/pope-francis-covid-19-vaccine-act-of-love/', 'Pope Francis urges people to get COVID-19 vaccine as \"an act of love\" ', 'health', '0.934952736']\n",
      "['78', 'https://www.cbsnews.com/news/covid-19-vaccine-booster-shot-dose-8-months/', 'U.S. to recommend COVID-19 vaccine booster shots 8 months after second dose ', 'health', '0.945382833']\n",
      "['79', 'https://www.cbsnews.com/news/afghanistan-iraq-wars-debt-6-trillion-interest/', \"Americans could owe $6.5 trillion for wars in Afghanistan and Iraq â€” and that's just the interest \", 'government', '0.86373359']\n",
      "['80', 'https://www.cbsnews.com/news/t-mobile-hacked-data-40-million-customers/', 'T-Mobile says hackers stole personal data from millions of customers ', 'business', '0.962716639']\n",
      "['81', 'https://www.cbsnews.com/news/methane-emissions-oil-gas-geofinancial-analytics/', 'Methane emissions from oil and gas are even worse than previously thought ', 'science', '0.808354497']\n",
      "['82', 'https://www.cbsnews.com/news/school-bus-driver-shortage-paying-parents-drive-kids/', 'Amid school bus driver shortages, one school offers parents $700 to drive their kids ', 'business', '0.886245668']\n",
      "['83', 'https://www.cbsnews.com/news/trump-hotels-las-vegas-miami-masks-covid-19-cases-spread/', 'Even some Trump hotels are requiring masks again as COVID cases spread ', 'international news', '0.822963238']\n",
      "['84', 'https://www.cbsnews.com/news/r-kelly-criminal-case-new-york/', \"R. Kelly's criminal case gets underway in NYC as some accusers plan to testify \", 'international news', '0.863757074']\n",
      "['85', 'https://www.cbsnews.com/news/tracey-harris-murder-trial-secret/', 'Prosecutors learn 30-year secret that upends Tracey Harris murder trial ', 'international news', '0.809739411']\n",
      "['86', 'https://www.cbsnews.com/news/airbnb-sues-person-who-held-unauthorized-party-where-two-were-shot-one-fatally/', 'Airbnb sues person who held unauthorized party where two were shot, one fatally ', 'business', '0.741117001']\n",
      "['87', 'https://www.cbsnews.com/news/kenosha-police-lawsuit-anthony-hubert-father-sue-over-kyle-rittenhouse-shooting/', 'Kenosha law enforcement enabled armed civilians to \"wreak havoc and inflict injury\" against protesters last summer, lawsuit claims ', 'fitness', '0.318791837']\n",
      "['88', 'https://www.cbsnews.com/news/tangtang-zhao-chicago-pharmacist-covid-vaccination-cards-indictment-ebay/', 'Chicago pharmacist charged with selling COVID vaccination cards on eBay ', 'health', '0.956116259']\n",
      "['89', 'https://www.cbsnews.com/news/boeing-starliner-space-capsule-launch-delay/', 'Boeing gives up on near-term launch of Starliner space capsule ', 'technology', '0.971731424']\n",
      "['90', 'https://www.cbsnews.com/news/richard-branson-virgin-galactic-stock/', 'Richard Branson sells $300 million in Virgin Galactic stock after rocket ride ', 'technology', '0.962334335']\n",
      "['91', 'https://www.cbsnews.com/news/asteroid-benu-impact-year-2182-precise-tracking/', 'Ultra-precise tracking virtually rules out near term impact by Bennu asteroid ', 'technology', '0.976714075']\n",
      "['92', 'https://www.cbsnews.com/news/northrop-grumman-launches-cygnus-cargo-ship-internaitonal-space-station/', 'Northrop Grumman launches Cygnus cargo ship to space station ', 'technology', '0.980690777']\n"
     ]
    }
   ],
   "source": [
    "import csv \n",
    "    \n",
    "# opening the CSV file \n",
    "with open('newsArticleScraping.csv', mode ='r')as file: \n",
    "      \n",
    "  # reading the CSV file \n",
    "  csvFile = csv.reader(file) \n",
    "    \n",
    "  # displaying the contents of the CSV file \n",
    "  for lines in csvFile: \n",
    "        print(lines) "
   ]
  },
  {
   "cell_type": "code",
   "execution_count": 8,
   "metadata": {
    "extensions": {
     "jupyter_dashboards": {
      "version": 1,
      "views": {
       "grid_default": {},
       "report_default": {}
      }
     }
    }
   },
   "outputs": [
    {
     "name": "stdout",
     "output_type": "stream",
     "text": [
      "Requirement already satisfied: dash==1.21.0 in c:\\users\\larak\\anaconda3\\lib\\site-packages (1.21.0)\n",
      "Requirement already satisfied: dash-table==4.12.0 in c:\\users\\larak\\anaconda3\\lib\\site-packages (from dash==1.21.0) (4.12.0)\n",
      "Requirement already satisfied: flask-compress in c:\\users\\larak\\anaconda3\\lib\\site-packages (from dash==1.21.0) (1.10.1)\n",
      "Requirement already satisfied: future in c:\\users\\larak\\anaconda3\\lib\\site-packages (from dash==1.21.0) (0.18.2)\n",
      "Requirement already satisfied: dash-html-components==1.1.4 in c:\\users\\larak\\anaconda3\\lib\\site-packages (from dash==1.21.0) (1.1.4)\n",
      "Requirement already satisfied: dash-core-components==1.17.1 in c:\\users\\larak\\anaconda3\\lib\\site-packages (from dash==1.21.0) (1.17.1)\n",
      "Requirement already satisfied: plotly in c:\\users\\larak\\anaconda3\\lib\\site-packages (from dash==1.21.0) (5.2.1)\n",
      "Requirement already satisfied: Flask>=1.0.4 in c:\\users\\larak\\anaconda3\\lib\\site-packages (from dash==1.21.0) (1.1.2)\n",
      "Requirement already satisfied: brotli in c:\\users\\larak\\anaconda3\\lib\\site-packages (from flask-compress->dash==1.21.0) (1.0.9)\n",
      "Requirement already satisfied: six in c:\\users\\larak\\anaconda3\\lib\\site-packages (from plotly->dash==1.21.0) (1.15.0)\n",
      "Requirement already satisfied: tenacity>=6.2.0 in c:\\users\\larak\\anaconda3\\lib\\site-packages (from plotly->dash==1.21.0) (8.0.1)\n",
      "Requirement already satisfied: Jinja2>=2.10.1 in c:\\users\\larak\\anaconda3\\lib\\site-packages (from Flask>=1.0.4->dash==1.21.0) (2.11.2)\n",
      "Requirement already satisfied: click>=5.1 in c:\\users\\larak\\anaconda3\\lib\\site-packages (from Flask>=1.0.4->dash==1.21.0) (7.1.2)\n",
      "Requirement already satisfied: itsdangerous>=0.24 in c:\\users\\larak\\anaconda3\\lib\\site-packages (from Flask>=1.0.4->dash==1.21.0) (1.1.0)\n",
      "Requirement already satisfied: Werkzeug>=0.15 in c:\\users\\larak\\anaconda3\\lib\\site-packages (from Flask>=1.0.4->dash==1.21.0) (1.0.1)\n",
      "Requirement already satisfied: MarkupSafe>=0.23 in c:\\users\\larak\\anaconda3\\lib\\site-packages (from Jinja2>=2.10.1->Flask>=1.0.4->dash==1.21.0) (1.1.1)\n"
     ]
    }
   ],
   "source": [
    "!pip install dash==1.21.0"
   ]
  },
  {
   "cell_type": "code",
   "execution_count": 25,
   "metadata": {
    "extensions": {
     "jupyter_dashboards": {
      "version": 1,
      "views": {
       "grid_default": {},
       "report_default": {}
      }
     }
    }
   },
   "outputs": [
    {
     "data": {
      "application/vnd.plotly.v1+json": {
       "config": {
        "plotlyServerURL": "https://plot.ly"
       },
       "data": [
        {
         "cells": {
          "align": "left",
          "fill": {
           "color": "lightblue"
          },
          "values": [
           [
            0,
            1,
            2,
            3,
            4,
            5,
            6,
            7,
            8,
            9,
            10,
            11,
            12,
            13,
            14,
            15,
            16,
            17,
            18,
            19,
            20,
            21,
            22,
            23,
            24,
            25,
            26,
            27,
            28,
            29,
            30,
            31,
            32,
            33,
            34,
            35,
            36,
            37,
            38,
            39,
            40,
            41,
            42,
            43,
            44,
            45,
            46,
            47,
            48,
            49,
            50,
            51,
            52,
            53,
            54,
            55,
            56,
            57,
            58,
            59,
            60,
            61,
            62,
            63,
            64,
            65,
            66,
            67,
            68,
            69,
            70,
            71,
            72,
            73,
            74,
            75,
            76,
            77,
            78,
            79,
            80,
            81,
            82,
            83,
            84,
            85,
            86,
            87,
            88,
            89,
            90,
            91,
            92
           ],
           [
            "https://www.cbsnews.com/news/nursing-homes-covid-19-vaccine-staff-medicare-medicaid-funds-watch-live-stream-today-2021-08-18/",
            "https://www.cbsnews.com/news/afghanistan-taliban-us-evacuations-americans-kabul/",
            "https://www.cbsnews.com/news/caldor-fire-california-growth-video/",
            "https://www.cbsnews.com/news/covid-19-vaccine-boosters-watch-live-today-08-18-2021/",
            "https://www.cbsnews.com/news/immigration-asylum-rule-biden-adminstration/",
            "https://www.cbsnews.com/news/r-kelly-criminal-case-new-york/",
            "https://www.cbsnews.com/news/t-mobile-hacked-data-40-million-customers/",
            "https://www.cbsnews.com/news/afghanistan-probe-democrats-congress/",
            "https://www.cbsnews.com/news/obama-presidential-library-supreme-court-protect-our-parks-construction/",
            "https://www.cbsnews.com/news/ashleigh-johnson-olympics-gold-diversity-aquatic-sports/",
            "https://www.cbsnews.com/news/olympics-2020-closing-ceremony-tokyo-covid-pandemic/",
            "https://www.cbsnews.com/news/jessica-springsteen-silver-equestrian-team-jumping-olympics/",
            "https://www.cbsnews.com/news/allyson-felix-wins-11th-medal-more-than-any-other-u-s-athlete-in-olympic-track-history/",
            "https://www.cbsnews.com/news/team-usa-mens-basketball-olympics-wins-gold-medal-france/",
            "https://www.cbsnews.com/news/quinn-transgender-nonbinary-olympics-medal-canada/",
            "https://www.cbsnews.com/news/simone-biles-tokyo-olympics-impressive/",
            "https://www.cbsnews.com/news/allyson-felix-olympic-track-medals-bronze-400m/",
            "https://www.cbsnews.com/news/april-ross-alix-klineman-beach-volleyball-gold-team-usa/",
            "https://www.cbsnews.com/news/belarus-krystina-timanovskaya-olympics-shine-light-on-repression-of-athletes/",
            "https://www.cbsnews.com/news/nevin-harrison-tokyo-olympics-gold-womens-200-meter-canoe-sprint/",
            "https://www.cbsnews.com/news/uswnt-soccer-olympics-bronze-medal-australia/",
            "https://www.cbsnews.com/news/4x100m-relay-tokyo-olympics-team-usa-fails-advance/",
            "https://www.cbsnews.com/news/tokyo-olympics-ryan-crouser-shot-put-team-usa-gold-medal/",
            "https://www.cbsnews.com/news/vashti-cunningham-olympics-high-jump-track-and-field/",
            "https://www.cbsnews.com/news/aliphine-tuliamuk-olympic-marathoner-allowed-to-bring-her-nursing-baby-to-tokyo-after-pushing-for-change/",
            "https://www.cbsnews.com/news/tamyra-mensah-stock-olympics-wrestling-black-woman-gold-medal/",
            "https://www.cbsnews.com/news/simone-biles-aunt-dies-olympics/",
            "https://www.cbsnews.com/news/indonesia-olympic-gold-medalists-greysia-polii-apriyani-rahayu-badminton/",
            "https://www.cbsnews.com/news/sky-brown-13-year-old-skateboarder-wins-medal-tokyo-olympics/",
            "https://www.cbsnews.com/news/rafael-nadal-mental-health/",
            "https://www.cbsnews.com/news/gabby-thomas-womens-200-meter-bronze-medal-olympics/",
            "https://www.cbsnews.com/news/simone-biles-olympics-gymnastics-balance-beam-bronze/",
            "https://www.cbsnews.com/news/rafael-nadal-simone-biles-tokyo-olympics/",
            "https://www.cbsnews.com/news/afghanistan-press-conference-mark-milley-lloyd-austin-watch-live-stream-today-2021-08-18/",
            "https://www.cbsnews.com/news/zakia-khudadadi-afghanistan-paralympics/",
            "https://www.cbsnews.com/news/immigration-asylum-rule-biden-adminstration/",
            "https://www.cbsnews.com/news/afghanistan-us-intelligence-increasingly-fragile-taliban-takeover/",
            "https://www.cbsnews.com/news/afghanistan-veterans-react-kabul-taliban/",
            "https://www.cbsnews.com/news/haiti-earthquake-death-toll/",
            "https://www.cbsnews.com/news/python-supermarket-australia-snake-catcher/",
            "https://www.cbsnews.com/news/afghanistan-china-taliban-security-xinjiang-resources-rare-earth-minerals/",
            "https://www.cbsnews.com/news/afghanistan-taliban-us-evacuations-americans-kabul/",
            "https://www.cbsnews.com/news/pope-francis-covid-19-vaccine-act-of-love/",
            "https://www.cbsnews.com/news/america-withdrawl-afghanistan-taliban-fallout/",
            "https://www.cbsnews.com/news/human-remains-plane-departing-afghanistan/",
            "https://www.cbsnews.com/news/wildfire-in-greece-france-deaths-damage-global-warming-neglect/",
            "https://www.cbsnews.com/news/iran-producing-more-uranium-metal-international-atomic-energy-agency/",
            "https://www.cbsnews.com/news/afghanistan-refugees-help-george-w-bush/",
            "https://www.cbsnews.com/news/afghanistan-press-conference-mark-milley-lloyd-austin-watch-live-stream-today-2021-08-18/",
            "https://www.cbsnews.com/news/zakia-khudadadi-afghanistan-paralympics/",
            "https://www.cbsnews.com/news/immigration-asylum-rule-biden-adminstration/",
            "https://www.cbsnews.com/news/afghanistan-us-intelligence-increasingly-fragile-taliban-takeover/",
            "https://www.cbsnews.com/news/afghanistan-veterans-react-kabul-taliban/",
            "https://www.cbsnews.com/news/tropical-depression-fred-new-york/",
            "https://www.cbsnews.com/news/nursing-homes-covid-19-vaccine-staff-medicare-medicaid-funds-watch-live-stream-today-2021-08-18/",
            "https://www.cbsnews.com/news/opioids-oxycontin-purdue-pharma/",
            "https://www.cbsnews.com/news/texas-school-mask-dress-code-abbott-ban/",
            "https://www.cbsnews.com/news/caldor-fire-california-growth-video/",
            "https://www.cbsnews.com/news/nursing-homes-covid-19-vaccine-staff-medicare-medicaid-funds-watch-live-stream-today-2021-08-18/",
            "https://www.cbsnews.com/news/afghanistan-press-conference-mark-milley-lloyd-austin-watch-live-stream-today-2021-08-18/",
            "https://www.cbsnews.com/news/missouri-gun-law-unconstitutional-justice-department/",
            "https://www.cbsnews.com/news/afghanistan-probe-democrats-congress/",
            "https://www.cbsnews.com/news/afghanistan-iraq-wars-debt-6-trillion-interest/",
            "https://www.cbsnews.com/news/las-vegas-raiders-to-make-fans-prove-theyve-been-vaccinated/",
            "https://www.cbsnews.com/news/t-mobile-hacked-data-40-million-customers/",
            "https://www.cbsnews.com/news/u-s-probing-autopilot-problems-on-765000-tesla-vehicles/",
            "https://www.cbsnews.com/news/boeing-starliner-space-capsule-launch-delay/",
            "https://www.cbsnews.com/news/richard-branson-virgin-galactic-stock/",
            "https://www.cbsnews.com/news/hurricane-hunting-drones-new-tool-intensifying-storms/",
            "https://www.cbsnews.com/news/covid-19-vaccine-booster-shot-dose-8-months/",
            "https://www.cbsnews.com/news/tsa-extend-mask-mandate-january-2022/",
            "https://www.cbsnews.com/news/louisiana-covid-19-misinformation-hospitals-two-pandemics/",
            "https://www.cbsnews.com/news/dixie-fire-wind-forecast-power-outages-latest-2021-08-16/",
            "https://www.cbsnews.com/news/mandatory-cutbacks-in-colorado-river-water-supply-will-hammer-arizona-farmers/",
            "https://www.cbsnews.com/news/opioids-oxycontin-purdue-pharma/",
            "https://www.cbsnews.com/news/covid-19-vaccine-record-card-cdc-2021-04-21/",
            "https://www.cbsnews.com/news/covid-vaccine-booster-shot-cdc-effectiveness/",
            "https://www.cbsnews.com/news/pope-francis-covid-19-vaccine-act-of-love/",
            "https://www.cbsnews.com/news/covid-19-vaccine-booster-shot-dose-8-months/",
            "https://www.cbsnews.com/news/afghanistan-iraq-wars-debt-6-trillion-interest/",
            "https://www.cbsnews.com/news/t-mobile-hacked-data-40-million-customers/",
            "https://www.cbsnews.com/news/methane-emissions-oil-gas-geofinancial-analytics/",
            "https://www.cbsnews.com/news/school-bus-driver-shortage-paying-parents-drive-kids/",
            "https://www.cbsnews.com/news/trump-hotels-las-vegas-miami-masks-covid-19-cases-spread/",
            "https://www.cbsnews.com/news/r-kelly-criminal-case-new-york/",
            "https://www.cbsnews.com/news/tracey-harris-murder-trial-secret/",
            "https://www.cbsnews.com/news/airbnb-sues-person-who-held-unauthorized-party-where-two-were-shot-one-fatally/",
            "https://www.cbsnews.com/news/kenosha-police-lawsuit-anthony-hubert-father-sue-over-kyle-rittenhouse-shooting/",
            "https://www.cbsnews.com/news/tangtang-zhao-chicago-pharmacist-covid-vaccination-cards-indictment-ebay/",
            "https://www.cbsnews.com/news/boeing-starliner-space-capsule-launch-delay/",
            "https://www.cbsnews.com/news/richard-branson-virgin-galactic-stock/",
            "https://www.cbsnews.com/news/asteroid-benu-impact-year-2182-precise-tracking/",
            "https://www.cbsnews.com/news/northrop-grumman-launches-cygnus-cargo-ship-internaitonal-space-station/"
           ],
           [
            "Biden to tie vaccines for nursing home staff to Medicare and Medicaid funding ",
            "Taliban tightens grip on Kabul airport as thousands of Americans await evacuation ",
            "Satellite video shows the \"explosive growth\" of the Caldor Fire in California ",
            "U.S. health officials recommend COVID-19 vaccine boosters 8 months after second shot ",
            "U.S. moves to reshape and speed up asylum processing along the southern border ",
            "R. Kelly's criminal case gets underway in NYC as some accusers plan to testify ",
            "T-Mobile says hackers stole personal data from millions of customers ",
            "Democrats say they'll probe \"worst-case scenario\" in Afghanistan ",
            "Chicago group asks Supreme Court to halt work on Obama presidential library ",
            "Ashleigh Johnson on winning Olympic gold and her \"mission\" to bring diversity to aquatic sports ",
            "Tokyo Olympics 2020: Closing ceremony marks end of strangest games on record ",
            "Jessica Springsteen helps team bring home silver in equestrian team jumping final ",
            "Allyson Felix wins 11th medal, more than any other U.S. athlete in Olympic track history ",
            "Team USA men's basketball team defeats France to win fourth consecutive gold medal ",
            "Canadian soccer player Quinn makes history as first openly transgender and nonbinary Olympian to win medal ",
            "Nastia Liukin says what Simone Biles did in Tokyo is more impressive than any of her past Olympic wins ",
            "Allyson Felix becomes the most decorated woman in Olympic track history with 10th medal ",
            "Team USA's April Ross and Alix Klineman defeat Australia to win gold in beach volleyball ",
            "Olympics shine light on repression of athletes in Belarus ",
            "American teen Nevin Harrison wins gold in historic women's 200-meter canoe sprint ",
            "U.S. women's soccer team beats Australia 4-3 to capture bronze in Tokyo ",
            "Team USA men fail to advance in 4x100 relay at Tokyo Olympics and draw widespread criticism ",
            "Ryan Crouser of Team USA wins gold in men's shot put at Summer Games, breaks his own Olympic record ",
            "Vashti Cunningham, daughter of NFL legend, makes a leap of faith at Tokyo Olympics ",
            "Olympic marathoner allowed to bring her nursing baby to Tokyo after pushing for change ",
            "Tamyra Mensah-Stock becomes first U.S. Black woman to win gold in freestyle wrestling ",
            "Simone Biles reveals her aunt died unexpectedly during Tokyo Olympics ",
            "Indonesia showers gold medalists with gifts of cows, cash and meatball restaurants after winning badminton final ",
            "Sky Brown becomes third 13-year-old skateboarder to win medal at Tokyo Olympics ",
            "Rafael Nadal discusses overcoming his own physical and mental health issues ",
            "Harvard grad Gabby Thomas wins bronze in women's 200-meter final in Tokyo ",
            "Simone Biles wins bronze in balance beam after withdrawing from other Tokyo Olympics events ",
            "Rafael Nadal \"100%\" supports Simone Biles' decision to withdraw from Olympic events ",
            "Defense Secretary says military will \"get as many people out\" of Afghanistan \"in the time available\" ",
            "She was supposed to be Afghanistan's first female Paralympian. Now, the Taliban has turned her dream into a \"nightmare.\" ",
            "U.S. moves to reshape and speed up asylum processing along the southern border ",
            "U.S. intelligence warned Afghan forces were increasingly fragile in run-up to Taliban takeover ",
            "\"It's like your heart being torn out\": Veterans of the war in Afghanistan reflect on the fall of Kabul and two decades of war ",
            "Death toll from Haiti earthquake climbs to 1,941, with over 9,900 injured ",
            "A 10-foot python surprised a woman in a supermarket spice aisle. She was a trained snake catcher. ",
            "With complex hopes and fears over Afghanistan, China likely to treat Taliban \"as an equal\" ",
            "Taliban tightens grip on Kabul airport as thousands of Americans await evacuation ",
            "Pope Francis urges people to get COVID-19 vaccine as \"an act of love\" ",
            "U.S. grapples with fallout from Afghanistan withdrawal with Taliban back in control ",
            "Human remains found in wheel well of U.S. military aircraft that departed Afghanistan ",
            "Anger and evacuations as deadly wildfires char France and Greece ",
            "Iran producing more uranium metal that can be used to make a nuclear bomb, U.N. watchdog says ",
            "Former President George W. Bush says U.S. must help Afghan refugees ",
            "Defense Secretary says military will \"get as many people out\" of Afghanistan \"in the time available\" ",
            "She was supposed to be Afghanistan's first female Paralympian. Now, the Taliban has turned her dream into a \"nightmare.\" ",
            "U.S. moves to reshape and speed up asylum processing along the southern border ",
            "U.S. intelligence warned Afghan forces were increasingly fragile in run-up to Taliban takeover ",
            "\"It's like your heart being torn out\": Veterans of the war in Afghanistan reflect on the fall of Kabul and two decades of war ",
            "Tropical Depression Fred threatens mudslides and flash floods in upstate New York ",
            "Biden to tie vaccines for nursing home staff to Medicare and Medicaid funding ",
            "Former head of OxyContin maker Purdue Pharma denies blame for opioid crisis ",
            "Texas school board adds masks to dress code to get around Gov. Abbott's ban on mask mandates in schools ",
            "Satellite video shows the \"explosive growth\" of the Caldor Fire in California ",
            "Biden to tie vaccines for nursing home staff to Medicare and Medicaid funding ",
            "Defense Secretary says military will \"get as many people out\" of Afghanistan \"in the time available\" ",
            "Justice Department says new Missouri gun law unconstitutional, hurts public safety ",
            "Democrats say they'll probe \"worst-case scenario\" in Afghanistan ",
            "Americans could owe $6.5 trillion for wars in Afghanistan and Iraq — and that's just the interest ",
            "Las Vegas Raiders to make fans prove they've been vaccinated ",
            "T-Mobile says hackers stole personal data from millions of customers ",
            "U.S. probing Autopilot problems on 765,000 Tesla vehicles ",
            "Boeing gives up on near-term launch of Starliner space capsule ",
            "Richard Branson sells $300 million in Virgin Galactic stock after rocket ride ",
            "New hurricane-hunting drones deployed to help warn of intensifying storms: \"This could be transformational\" ",
            "U.S. to recommend COVID-19 vaccine booster shots 8 months after second dose ",
            "TSA to extend mask mandate through January 2022 ",
            "Louisiana doctors fight surge in COVID patients and misinformation over vaccines: \"We have two pandemics\" ",
            "Dixie Fire latest: Windy weather and power cuts bring new worries to Northern California residents ",
            "Mandatory cutbacks in Colorado River water supply to hammer Arizona farmers ",
            "Former head of OxyContin maker Purdue Pharma denies blame for opioid crisis ",
            "You've been vaccinated. So what should you do with your vaccine record card? ",
            "CDC warns of a \"significant decline\" in vaccine effectiveness for some, prompting booster dose decision ",
            "Pope Francis urges people to get COVID-19 vaccine as \"an act of love\" ",
            "U.S. to recommend COVID-19 vaccine booster shots 8 months after second dose ",
            "Americans could owe $6.5 trillion for wars in Afghanistan and Iraq — and that's just the interest ",
            "T-Mobile says hackers stole personal data from millions of customers ",
            "Methane emissions from oil and gas are even worse than previously thought ",
            "Amid school bus driver shortages, one school offers parents $700 to drive their kids ",
            "Even some Trump hotels are requiring masks again as COVID cases spread ",
            "R. Kelly's criminal case gets underway in NYC as some accusers plan to testify ",
            "Prosecutors learn 30-year secret that upends Tracey Harris murder trial ",
            "Airbnb sues person who held unauthorized party where two were shot, one fatally ",
            "Kenosha law enforcement enabled armed civilians to \"wreak havoc and inflict injury\" against protesters last summer, lawsuit claims ",
            "Chicago pharmacist charged with selling COVID vaccination cards on eBay ",
            "Boeing gives up on near-term launch of Starliner space capsule ",
            "Richard Branson sells $300 million in Virgin Galactic stock after rocket ride ",
            "Ultra-precise tracking virtually rules out near term impact by Bennu asteroid ",
            "Northrop Grumman launches Cygnus cargo ship to space station "
           ],
           [
            "health",
            "international news",
            "technology",
            "health",
            "government",
            "international news",
            "business",
            "politics",
            "government",
            "sports",
            "international news",
            "sports",
            "sports",
            "sports",
            "sports",
            "sports",
            "sports",
            "sports",
            "international news",
            "sports",
            "sports",
            "international news",
            "sports",
            "sports",
            "international news",
            "sports",
            "celebrity",
            "sports",
            "sports",
            "health",
            "sports",
            "sports",
            "sports",
            "international news",
            "sports",
            "government",
            "international news",
            "international news",
            "international news",
            "international news",
            "international news",
            "international news",
            "health",
            "international news",
            "international news",
            "international news",
            "international news",
            "international news",
            "international news",
            "sports",
            "government",
            "international news",
            "international news",
            "international news",
            "health",
            "business",
            "politics",
            "technology",
            "health",
            "international news",
            "government",
            "politics",
            "government",
            "sports",
            "business",
            "technology",
            "technology",
            "technology",
            "technology",
            "health",
            "business",
            "health",
            "international news",
            "business",
            "business",
            "health",
            "science",
            "health",
            "health",
            "government",
            "business",
            "science",
            "business",
            "international news",
            "international news",
            "international news",
            "business",
            "fitness",
            "health",
            "technology",
            "technology",
            "technology",
            "technology"
           ],
           [
            0.976821065,
            0.558106959,
            0.960740268,
            0.961519539,
            0.798262537,
            0.863757074,
            0.962716639,
            0.941818595,
            0.892224133,
            0.982828975,
            0.981074214,
            0.994038522,
            0.981705785,
            0.997727275,
            0.992959023,
            0.97231859,
            0.993936718,
            0.994820833,
            0.991754413,
            0.989672124,
            0.99684006,
            0.992154598,
            0.99584198,
            0.993154824,
            0.967446744,
            0.97996515,
            0.98450923,
            0.975810409,
            0.991699159,
            0.98893857,
            0.990328729,
            0.992042065,
            0.986919761,
            0.642029464,
            0.977072358,
            0.798262537,
            0.674337626,
            0.619522452,
            0.976946712,
            0.332077622,
            0.890188992,
            0.558106959,
            0.934952736,
            0.838901579,
            0.753624916,
            0.99725759,
            0.982385755,
            0.678543806,
            0.642029464,
            0.977072358,
            0.798262537,
            0.674337626,
            0.619522452,
            0.323044509,
            0.976821065,
            0.650806606,
            0.908571661,
            0.960740268,
            0.976821065,
            0.642029464,
            0.931133628,
            0.941818595,
            0.86373359,
            0.995946825,
            0.962716639,
            0.975137174,
            0.971731424,
            0.962334335,
            0.993920863,
            0.945382833,
            0.760297358,
            0.934951901,
            0.138296515,
            0.797862947,
            0.650806606,
            0.977892339,
            0.95521915,
            0.934952736,
            0.945382833,
            0.86373359,
            0.962716639,
            0.808354497,
            0.886245668,
            0.822963238,
            0.863757074,
            0.809739411,
            0.741117001,
            0.318791837,
            0.956116259,
            0.971731424,
            0.962334335,
            0.976714075,
            0.980690777
           ]
          ]
         },
         "header": {
          "align": "left",
          "fill": {
           "color": "pink"
          },
          "values": [
           "number",
           "url",
           "title",
           "tag",
           "likelihood"
          ]
         },
         "type": "table"
        }
       ],
       "layout": {
        "template": {
         "data": {
          "bar": [
           {
            "error_x": {
             "color": "#2a3f5f"
            },
            "error_y": {
             "color": "#2a3f5f"
            },
            "marker": {
             "line": {
              "color": "#E5ECF6",
              "width": 0.5
             },
             "pattern": {
              "fillmode": "overlay",
              "size": 10,
              "solidity": 0.2
             }
            },
            "type": "bar"
           }
          ],
          "barpolar": [
           {
            "marker": {
             "line": {
              "color": "#E5ECF6",
              "width": 0.5
             },
             "pattern": {
              "fillmode": "overlay",
              "size": 10,
              "solidity": 0.2
             }
            },
            "type": "barpolar"
           }
          ],
          "carpet": [
           {
            "aaxis": {
             "endlinecolor": "#2a3f5f",
             "gridcolor": "white",
             "linecolor": "white",
             "minorgridcolor": "white",
             "startlinecolor": "#2a3f5f"
            },
            "baxis": {
             "endlinecolor": "#2a3f5f",
             "gridcolor": "white",
             "linecolor": "white",
             "minorgridcolor": "white",
             "startlinecolor": "#2a3f5f"
            },
            "type": "carpet"
           }
          ],
          "choropleth": [
           {
            "colorbar": {
             "outlinewidth": 0,
             "ticks": ""
            },
            "type": "choropleth"
           }
          ],
          "contour": [
           {
            "colorbar": {
             "outlinewidth": 0,
             "ticks": ""
            },
            "colorscale": [
             [
              0,
              "#0d0887"
             ],
             [
              0.1111111111111111,
              "#46039f"
             ],
             [
              0.2222222222222222,
              "#7201a8"
             ],
             [
              0.3333333333333333,
              "#9c179e"
             ],
             [
              0.4444444444444444,
              "#bd3786"
             ],
             [
              0.5555555555555556,
              "#d8576b"
             ],
             [
              0.6666666666666666,
              "#ed7953"
             ],
             [
              0.7777777777777778,
              "#fb9f3a"
             ],
             [
              0.8888888888888888,
              "#fdca26"
             ],
             [
              1,
              "#f0f921"
             ]
            ],
            "type": "contour"
           }
          ],
          "contourcarpet": [
           {
            "colorbar": {
             "outlinewidth": 0,
             "ticks": ""
            },
            "type": "contourcarpet"
           }
          ],
          "heatmap": [
           {
            "colorbar": {
             "outlinewidth": 0,
             "ticks": ""
            },
            "colorscale": [
             [
              0,
              "#0d0887"
             ],
             [
              0.1111111111111111,
              "#46039f"
             ],
             [
              0.2222222222222222,
              "#7201a8"
             ],
             [
              0.3333333333333333,
              "#9c179e"
             ],
             [
              0.4444444444444444,
              "#bd3786"
             ],
             [
              0.5555555555555556,
              "#d8576b"
             ],
             [
              0.6666666666666666,
              "#ed7953"
             ],
             [
              0.7777777777777778,
              "#fb9f3a"
             ],
             [
              0.8888888888888888,
              "#fdca26"
             ],
             [
              1,
              "#f0f921"
             ]
            ],
            "type": "heatmap"
           }
          ],
          "heatmapgl": [
           {
            "colorbar": {
             "outlinewidth": 0,
             "ticks": ""
            },
            "colorscale": [
             [
              0,
              "#0d0887"
             ],
             [
              0.1111111111111111,
              "#46039f"
             ],
             [
              0.2222222222222222,
              "#7201a8"
             ],
             [
              0.3333333333333333,
              "#9c179e"
             ],
             [
              0.4444444444444444,
              "#bd3786"
             ],
             [
              0.5555555555555556,
              "#d8576b"
             ],
             [
              0.6666666666666666,
              "#ed7953"
             ],
             [
              0.7777777777777778,
              "#fb9f3a"
             ],
             [
              0.8888888888888888,
              "#fdca26"
             ],
             [
              1,
              "#f0f921"
             ]
            ],
            "type": "heatmapgl"
           }
          ],
          "histogram": [
           {
            "marker": {
             "pattern": {
              "fillmode": "overlay",
              "size": 10,
              "solidity": 0.2
             }
            },
            "type": "histogram"
           }
          ],
          "histogram2d": [
           {
            "colorbar": {
             "outlinewidth": 0,
             "ticks": ""
            },
            "colorscale": [
             [
              0,
              "#0d0887"
             ],
             [
              0.1111111111111111,
              "#46039f"
             ],
             [
              0.2222222222222222,
              "#7201a8"
             ],
             [
              0.3333333333333333,
              "#9c179e"
             ],
             [
              0.4444444444444444,
              "#bd3786"
             ],
             [
              0.5555555555555556,
              "#d8576b"
             ],
             [
              0.6666666666666666,
              "#ed7953"
             ],
             [
              0.7777777777777778,
              "#fb9f3a"
             ],
             [
              0.8888888888888888,
              "#fdca26"
             ],
             [
              1,
              "#f0f921"
             ]
            ],
            "type": "histogram2d"
           }
          ],
          "histogram2dcontour": [
           {
            "colorbar": {
             "outlinewidth": 0,
             "ticks": ""
            },
            "colorscale": [
             [
              0,
              "#0d0887"
             ],
             [
              0.1111111111111111,
              "#46039f"
             ],
             [
              0.2222222222222222,
              "#7201a8"
             ],
             [
              0.3333333333333333,
              "#9c179e"
             ],
             [
              0.4444444444444444,
              "#bd3786"
             ],
             [
              0.5555555555555556,
              "#d8576b"
             ],
             [
              0.6666666666666666,
              "#ed7953"
             ],
             [
              0.7777777777777778,
              "#fb9f3a"
             ],
             [
              0.8888888888888888,
              "#fdca26"
             ],
             [
              1,
              "#f0f921"
             ]
            ],
            "type": "histogram2dcontour"
           }
          ],
          "mesh3d": [
           {
            "colorbar": {
             "outlinewidth": 0,
             "ticks": ""
            },
            "type": "mesh3d"
           }
          ],
          "parcoords": [
           {
            "line": {
             "colorbar": {
              "outlinewidth": 0,
              "ticks": ""
             }
            },
            "type": "parcoords"
           }
          ],
          "pie": [
           {
            "automargin": true,
            "type": "pie"
           }
          ],
          "scatter": [
           {
            "marker": {
             "colorbar": {
              "outlinewidth": 0,
              "ticks": ""
             }
            },
            "type": "scatter"
           }
          ],
          "scatter3d": [
           {
            "line": {
             "colorbar": {
              "outlinewidth": 0,
              "ticks": ""
             }
            },
            "marker": {
             "colorbar": {
              "outlinewidth": 0,
              "ticks": ""
             }
            },
            "type": "scatter3d"
           }
          ],
          "scattercarpet": [
           {
            "marker": {
             "colorbar": {
              "outlinewidth": 0,
              "ticks": ""
             }
            },
            "type": "scattercarpet"
           }
          ],
          "scattergeo": [
           {
            "marker": {
             "colorbar": {
              "outlinewidth": 0,
              "ticks": ""
             }
            },
            "type": "scattergeo"
           }
          ],
          "scattergl": [
           {
            "marker": {
             "colorbar": {
              "outlinewidth": 0,
              "ticks": ""
             }
            },
            "type": "scattergl"
           }
          ],
          "scattermapbox": [
           {
            "marker": {
             "colorbar": {
              "outlinewidth": 0,
              "ticks": ""
             }
            },
            "type": "scattermapbox"
           }
          ],
          "scatterpolar": [
           {
            "marker": {
             "colorbar": {
              "outlinewidth": 0,
              "ticks": ""
             }
            },
            "type": "scatterpolar"
           }
          ],
          "scatterpolargl": [
           {
            "marker": {
             "colorbar": {
              "outlinewidth": 0,
              "ticks": ""
             }
            },
            "type": "scatterpolargl"
           }
          ],
          "scatterternary": [
           {
            "marker": {
             "colorbar": {
              "outlinewidth": 0,
              "ticks": ""
             }
            },
            "type": "scatterternary"
           }
          ],
          "surface": [
           {
            "colorbar": {
             "outlinewidth": 0,
             "ticks": ""
            },
            "colorscale": [
             [
              0,
              "#0d0887"
             ],
             [
              0.1111111111111111,
              "#46039f"
             ],
             [
              0.2222222222222222,
              "#7201a8"
             ],
             [
              0.3333333333333333,
              "#9c179e"
             ],
             [
              0.4444444444444444,
              "#bd3786"
             ],
             [
              0.5555555555555556,
              "#d8576b"
             ],
             [
              0.6666666666666666,
              "#ed7953"
             ],
             [
              0.7777777777777778,
              "#fb9f3a"
             ],
             [
              0.8888888888888888,
              "#fdca26"
             ],
             [
              1,
              "#f0f921"
             ]
            ],
            "type": "surface"
           }
          ],
          "table": [
           {
            "cells": {
             "fill": {
              "color": "#EBF0F8"
             },
             "line": {
              "color": "white"
             }
            },
            "header": {
             "fill": {
              "color": "#C8D4E3"
             },
             "line": {
              "color": "white"
             }
            },
            "type": "table"
           }
          ]
         },
         "layout": {
          "annotationdefaults": {
           "arrowcolor": "#2a3f5f",
           "arrowhead": 0,
           "arrowwidth": 1
          },
          "autotypenumbers": "strict",
          "coloraxis": {
           "colorbar": {
            "outlinewidth": 0,
            "ticks": ""
           }
          },
          "colorscale": {
           "diverging": [
            [
             0,
             "#8e0152"
            ],
            [
             0.1,
             "#c51b7d"
            ],
            [
             0.2,
             "#de77ae"
            ],
            [
             0.3,
             "#f1b6da"
            ],
            [
             0.4,
             "#fde0ef"
            ],
            [
             0.5,
             "#f7f7f7"
            ],
            [
             0.6,
             "#e6f5d0"
            ],
            [
             0.7,
             "#b8e186"
            ],
            [
             0.8,
             "#7fbc41"
            ],
            [
             0.9,
             "#4d9221"
            ],
            [
             1,
             "#276419"
            ]
           ],
           "sequential": [
            [
             0,
             "#0d0887"
            ],
            [
             0.1111111111111111,
             "#46039f"
            ],
            [
             0.2222222222222222,
             "#7201a8"
            ],
            [
             0.3333333333333333,
             "#9c179e"
            ],
            [
             0.4444444444444444,
             "#bd3786"
            ],
            [
             0.5555555555555556,
             "#d8576b"
            ],
            [
             0.6666666666666666,
             "#ed7953"
            ],
            [
             0.7777777777777778,
             "#fb9f3a"
            ],
            [
             0.8888888888888888,
             "#fdca26"
            ],
            [
             1,
             "#f0f921"
            ]
           ],
           "sequentialminus": [
            [
             0,
             "#0d0887"
            ],
            [
             0.1111111111111111,
             "#46039f"
            ],
            [
             0.2222222222222222,
             "#7201a8"
            ],
            [
             0.3333333333333333,
             "#9c179e"
            ],
            [
             0.4444444444444444,
             "#bd3786"
            ],
            [
             0.5555555555555556,
             "#d8576b"
            ],
            [
             0.6666666666666666,
             "#ed7953"
            ],
            [
             0.7777777777777778,
             "#fb9f3a"
            ],
            [
             0.8888888888888888,
             "#fdca26"
            ],
            [
             1,
             "#f0f921"
            ]
           ]
          },
          "colorway": [
           "#636efa",
           "#EF553B",
           "#00cc96",
           "#ab63fa",
           "#FFA15A",
           "#19d3f3",
           "#FF6692",
           "#B6E880",
           "#FF97FF",
           "#FECB52"
          ],
          "font": {
           "color": "#2a3f5f"
          },
          "geo": {
           "bgcolor": "white",
           "lakecolor": "white",
           "landcolor": "#E5ECF6",
           "showlakes": true,
           "showland": true,
           "subunitcolor": "white"
          },
          "hoverlabel": {
           "align": "left"
          },
          "hovermode": "closest",
          "mapbox": {
           "style": "light"
          },
          "paper_bgcolor": "white",
          "plot_bgcolor": "#E5ECF6",
          "polar": {
           "angularaxis": {
            "gridcolor": "white",
            "linecolor": "white",
            "ticks": ""
           },
           "bgcolor": "#E5ECF6",
           "radialaxis": {
            "gridcolor": "white",
            "linecolor": "white",
            "ticks": ""
           }
          },
          "scene": {
           "xaxis": {
            "backgroundcolor": "#E5ECF6",
            "gridcolor": "white",
            "gridwidth": 2,
            "linecolor": "white",
            "showbackground": true,
            "ticks": "",
            "zerolinecolor": "white"
           },
           "yaxis": {
            "backgroundcolor": "#E5ECF6",
            "gridcolor": "white",
            "gridwidth": 2,
            "linecolor": "white",
            "showbackground": true,
            "ticks": "",
            "zerolinecolor": "white"
           },
           "zaxis": {
            "backgroundcolor": "#E5ECF6",
            "gridcolor": "white",
            "gridwidth": 2,
            "linecolor": "white",
            "showbackground": true,
            "ticks": "",
            "zerolinecolor": "white"
           }
          },
          "shapedefaults": {
           "line": {
            "color": "#2a3f5f"
           }
          },
          "ternary": {
           "aaxis": {
            "gridcolor": "white",
            "linecolor": "white",
            "ticks": ""
           },
           "baxis": {
            "gridcolor": "white",
            "linecolor": "white",
            "ticks": ""
           },
           "bgcolor": "#E5ECF6",
           "caxis": {
            "gridcolor": "white",
            "linecolor": "white",
            "ticks": ""
           }
          },
          "title": {
           "x": 0.05
          },
          "xaxis": {
           "automargin": true,
           "gridcolor": "white",
           "linecolor": "white",
           "ticks": "",
           "title": {
            "standoff": 15
           },
           "zerolinecolor": "white",
           "zerolinewidth": 2
          },
          "yaxis": {
           "automargin": true,
           "gridcolor": "white",
           "linecolor": "white",
           "ticks": "",
           "title": {
            "standoff": 15
           },
           "zerolinecolor": "white",
           "zerolinewidth": 2
          }
         }
        }
       }
      },
      "text/html": [
       "<div>                            <div id=\"52c5e3c4-4f9d-471f-a4da-30fbd40c7b09\" class=\"plotly-graph-div\" style=\"height:525px; width:100%;\"></div>            <script type=\"text/javascript\">                require([\"plotly\"], function(Plotly) {                    window.PLOTLYENV=window.PLOTLYENV || {};                                    if (document.getElementById(\"52c5e3c4-4f9d-471f-a4da-30fbd40c7b09\")) {                    Plotly.newPlot(                        \"52c5e3c4-4f9d-471f-a4da-30fbd40c7b09\",                        [{\"cells\":{\"align\":\"left\",\"fill\":{\"color\":\"lightblue\"},\"values\":[[0,1,2,3,4,5,6,7,8,9,10,11,12,13,14,15,16,17,18,19,20,21,22,23,24,25,26,27,28,29,30,31,32,33,34,35,36,37,38,39,40,41,42,43,44,45,46,47,48,49,50,51,52,53,54,55,56,57,58,59,60,61,62,63,64,65,66,67,68,69,70,71,72,73,74,75,76,77,78,79,80,81,82,83,84,85,86,87,88,89,90,91,92],[\"https://www.cbsnews.com/news/nursing-homes-covid-19-vaccine-staff-medicare-medicaid-funds-watch-live-stream-today-2021-08-18/\",\"https://www.cbsnews.com/news/afghanistan-taliban-us-evacuations-americans-kabul/\",\"https://www.cbsnews.com/news/caldor-fire-california-growth-video/\",\"https://www.cbsnews.com/news/covid-19-vaccine-boosters-watch-live-today-08-18-2021/\",\"https://www.cbsnews.com/news/immigration-asylum-rule-biden-adminstration/\",\"https://www.cbsnews.com/news/r-kelly-criminal-case-new-york/\",\"https://www.cbsnews.com/news/t-mobile-hacked-data-40-million-customers/\",\"https://www.cbsnews.com/news/afghanistan-probe-democrats-congress/\",\"https://www.cbsnews.com/news/obama-presidential-library-supreme-court-protect-our-parks-construction/\",\"https://www.cbsnews.com/news/ashleigh-johnson-olympics-gold-diversity-aquatic-sports/\",\"https://www.cbsnews.com/news/olympics-2020-closing-ceremony-tokyo-covid-pandemic/\",\"https://www.cbsnews.com/news/jessica-springsteen-silver-equestrian-team-jumping-olympics/\",\"https://www.cbsnews.com/news/allyson-felix-wins-11th-medal-more-than-any-other-u-s-athlete-in-olympic-track-history/\",\"https://www.cbsnews.com/news/team-usa-mens-basketball-olympics-wins-gold-medal-france/\",\"https://www.cbsnews.com/news/quinn-transgender-nonbinary-olympics-medal-canada/\",\"https://www.cbsnews.com/news/simone-biles-tokyo-olympics-impressive/\",\"https://www.cbsnews.com/news/allyson-felix-olympic-track-medals-bronze-400m/\",\"https://www.cbsnews.com/news/april-ross-alix-klineman-beach-volleyball-gold-team-usa/\",\"https://www.cbsnews.com/news/belarus-krystina-timanovskaya-olympics-shine-light-on-repression-of-athletes/\",\"https://www.cbsnews.com/news/nevin-harrison-tokyo-olympics-gold-womens-200-meter-canoe-sprint/\",\"https://www.cbsnews.com/news/uswnt-soccer-olympics-bronze-medal-australia/\",\"https://www.cbsnews.com/news/4x100m-relay-tokyo-olympics-team-usa-fails-advance/\",\"https://www.cbsnews.com/news/tokyo-olympics-ryan-crouser-shot-put-team-usa-gold-medal/\",\"https://www.cbsnews.com/news/vashti-cunningham-olympics-high-jump-track-and-field/\",\"https://www.cbsnews.com/news/aliphine-tuliamuk-olympic-marathoner-allowed-to-bring-her-nursing-baby-to-tokyo-after-pushing-for-change/\",\"https://www.cbsnews.com/news/tamyra-mensah-stock-olympics-wrestling-black-woman-gold-medal/\",\"https://www.cbsnews.com/news/simone-biles-aunt-dies-olympics/\",\"https://www.cbsnews.com/news/indonesia-olympic-gold-medalists-greysia-polii-apriyani-rahayu-badminton/\",\"https://www.cbsnews.com/news/sky-brown-13-year-old-skateboarder-wins-medal-tokyo-olympics/\",\"https://www.cbsnews.com/news/rafael-nadal-mental-health/\",\"https://www.cbsnews.com/news/gabby-thomas-womens-200-meter-bronze-medal-olympics/\",\"https://www.cbsnews.com/news/simone-biles-olympics-gymnastics-balance-beam-bronze/\",\"https://www.cbsnews.com/news/rafael-nadal-simone-biles-tokyo-olympics/\",\"https://www.cbsnews.com/news/afghanistan-press-conference-mark-milley-lloyd-austin-watch-live-stream-today-2021-08-18/\",\"https://www.cbsnews.com/news/zakia-khudadadi-afghanistan-paralympics/\",\"https://www.cbsnews.com/news/immigration-asylum-rule-biden-adminstration/\",\"https://www.cbsnews.com/news/afghanistan-us-intelligence-increasingly-fragile-taliban-takeover/\",\"https://www.cbsnews.com/news/afghanistan-veterans-react-kabul-taliban/\",\"https://www.cbsnews.com/news/haiti-earthquake-death-toll/\",\"https://www.cbsnews.com/news/python-supermarket-australia-snake-catcher/\",\"https://www.cbsnews.com/news/afghanistan-china-taliban-security-xinjiang-resources-rare-earth-minerals/\",\"https://www.cbsnews.com/news/afghanistan-taliban-us-evacuations-americans-kabul/\",\"https://www.cbsnews.com/news/pope-francis-covid-19-vaccine-act-of-love/\",\"https://www.cbsnews.com/news/america-withdrawl-afghanistan-taliban-fallout/\",\"https://www.cbsnews.com/news/human-remains-plane-departing-afghanistan/\",\"https://www.cbsnews.com/news/wildfire-in-greece-france-deaths-damage-global-warming-neglect/\",\"https://www.cbsnews.com/news/iran-producing-more-uranium-metal-international-atomic-energy-agency/\",\"https://www.cbsnews.com/news/afghanistan-refugees-help-george-w-bush/\",\"https://www.cbsnews.com/news/afghanistan-press-conference-mark-milley-lloyd-austin-watch-live-stream-today-2021-08-18/\",\"https://www.cbsnews.com/news/zakia-khudadadi-afghanistan-paralympics/\",\"https://www.cbsnews.com/news/immigration-asylum-rule-biden-adminstration/\",\"https://www.cbsnews.com/news/afghanistan-us-intelligence-increasingly-fragile-taliban-takeover/\",\"https://www.cbsnews.com/news/afghanistan-veterans-react-kabul-taliban/\",\"https://www.cbsnews.com/news/tropical-depression-fred-new-york/\",\"https://www.cbsnews.com/news/nursing-homes-covid-19-vaccine-staff-medicare-medicaid-funds-watch-live-stream-today-2021-08-18/\",\"https://www.cbsnews.com/news/opioids-oxycontin-purdue-pharma/\",\"https://www.cbsnews.com/news/texas-school-mask-dress-code-abbott-ban/\",\"https://www.cbsnews.com/news/caldor-fire-california-growth-video/\",\"https://www.cbsnews.com/news/nursing-homes-covid-19-vaccine-staff-medicare-medicaid-funds-watch-live-stream-today-2021-08-18/\",\"https://www.cbsnews.com/news/afghanistan-press-conference-mark-milley-lloyd-austin-watch-live-stream-today-2021-08-18/\",\"https://www.cbsnews.com/news/missouri-gun-law-unconstitutional-justice-department/\",\"https://www.cbsnews.com/news/afghanistan-probe-democrats-congress/\",\"https://www.cbsnews.com/news/afghanistan-iraq-wars-debt-6-trillion-interest/\",\"https://www.cbsnews.com/news/las-vegas-raiders-to-make-fans-prove-theyve-been-vaccinated/\",\"https://www.cbsnews.com/news/t-mobile-hacked-data-40-million-customers/\",\"https://www.cbsnews.com/news/u-s-probing-autopilot-problems-on-765000-tesla-vehicles/\",\"https://www.cbsnews.com/news/boeing-starliner-space-capsule-launch-delay/\",\"https://www.cbsnews.com/news/richard-branson-virgin-galactic-stock/\",\"https://www.cbsnews.com/news/hurricane-hunting-drones-new-tool-intensifying-storms/\",\"https://www.cbsnews.com/news/covid-19-vaccine-booster-shot-dose-8-months/\",\"https://www.cbsnews.com/news/tsa-extend-mask-mandate-january-2022/\",\"https://www.cbsnews.com/news/louisiana-covid-19-misinformation-hospitals-two-pandemics/\",\"https://www.cbsnews.com/news/dixie-fire-wind-forecast-power-outages-latest-2021-08-16/\",\"https://www.cbsnews.com/news/mandatory-cutbacks-in-colorado-river-water-supply-will-hammer-arizona-farmers/\",\"https://www.cbsnews.com/news/opioids-oxycontin-purdue-pharma/\",\"https://www.cbsnews.com/news/covid-19-vaccine-record-card-cdc-2021-04-21/\",\"https://www.cbsnews.com/news/covid-vaccine-booster-shot-cdc-effectiveness/\",\"https://www.cbsnews.com/news/pope-francis-covid-19-vaccine-act-of-love/\",\"https://www.cbsnews.com/news/covid-19-vaccine-booster-shot-dose-8-months/\",\"https://www.cbsnews.com/news/afghanistan-iraq-wars-debt-6-trillion-interest/\",\"https://www.cbsnews.com/news/t-mobile-hacked-data-40-million-customers/\",\"https://www.cbsnews.com/news/methane-emissions-oil-gas-geofinancial-analytics/\",\"https://www.cbsnews.com/news/school-bus-driver-shortage-paying-parents-drive-kids/\",\"https://www.cbsnews.com/news/trump-hotels-las-vegas-miami-masks-covid-19-cases-spread/\",\"https://www.cbsnews.com/news/r-kelly-criminal-case-new-york/\",\"https://www.cbsnews.com/news/tracey-harris-murder-trial-secret/\",\"https://www.cbsnews.com/news/airbnb-sues-person-who-held-unauthorized-party-where-two-were-shot-one-fatally/\",\"https://www.cbsnews.com/news/kenosha-police-lawsuit-anthony-hubert-father-sue-over-kyle-rittenhouse-shooting/\",\"https://www.cbsnews.com/news/tangtang-zhao-chicago-pharmacist-covid-vaccination-cards-indictment-ebay/\",\"https://www.cbsnews.com/news/boeing-starliner-space-capsule-launch-delay/\",\"https://www.cbsnews.com/news/richard-branson-virgin-galactic-stock/\",\"https://www.cbsnews.com/news/asteroid-benu-impact-year-2182-precise-tracking/\",\"https://www.cbsnews.com/news/northrop-grumman-launches-cygnus-cargo-ship-internaitonal-space-station/\"],[\"Biden to tie vaccines for nursing home staff to Medicare and Medicaid funding \",\"Taliban tightens grip on Kabul airport as thousands of Americans await evacuation \",\"Satellite video shows the \\\"explosive growth\\\" of the Caldor Fire in California \",\"U.S. health officials recommend COVID-19 vaccine boosters 8 months after second shot \",\"U.S. moves to reshape and speed up asylum processing along the southern border \",\"R. Kelly's criminal case gets underway in NYC as some accusers plan to testify \",\"T-Mobile says hackers stole personal data from millions of customers \",\"Democrats say they'll probe \\\"worst-case scenario\\\" in Afghanistan \",\"Chicago group asks Supreme Court to halt work on Obama presidential library \",\"Ashleigh Johnson on winning Olympic gold and her \\\"mission\\\" to bring diversity to aquatic sports \",\"Tokyo Olympics 2020: Closing ceremony marks end of strangest games on record \",\"Jessica Springsteen helps team bring home silver in equestrian team jumping final \",\"Allyson Felix wins 11th medal, more than any other U.S. athlete in Olympic track history \",\"Team USA men's basketball team defeats France to win fourth consecutive gold medal \",\"Canadian soccer player Quinn makes history as first openly transgender and nonbinary Olympian to win medal \",\"Nastia Liukin says what Simone Biles did in Tokyo is more impressive than any of her past Olympic wins \",\"Allyson Felix becomes the most decorated woman in Olympic track history with 10th medal \",\"Team USA's April Ross and Alix Klineman defeat Australia to win gold in beach volleyball \",\"Olympics shine light on repression of athletes in Belarus \",\"American teen Nevin Harrison wins gold in historic women's 200-meter canoe sprint \",\"U.S. women's soccer team beats Australia 4-3 to capture bronze in Tokyo \",\"Team USA men fail to advance in 4x100 relay at Tokyo Olympics and draw widespread criticism \",\"Ryan Crouser of Team USA wins gold in men's shot put at Summer Games, breaks his own Olympic record \",\"Vashti Cunningham, daughter of NFL legend, makes a leap of faith at Tokyo Olympics \",\"Olympic marathoner allowed to bring her nursing baby to Tokyo after pushing for change \",\"Tamyra Mensah-Stock becomes first U.S. Black woman to win gold in freestyle wrestling \",\"Simone Biles reveals her aunt died unexpectedly during Tokyo Olympics \",\"Indonesia showers gold medalists with gifts of cows, cash and meatball restaurants after winning badminton final \",\"Sky Brown becomes third 13-year-old skateboarder to win medal at Tokyo Olympics \",\"Rafael Nadal discusses overcoming his own physical and mental health issues \",\"Harvard grad Gabby Thomas wins bronze in women's 200-meter final in Tokyo \",\"Simone Biles wins bronze in balance beam after withdrawing from other Tokyo Olympics events \",\"Rafael Nadal \\\"100%\\\" supports Simone Biles' decision to withdraw from Olympic events \",\"Defense Secretary says military will \\\"get as many people out\\\" of Afghanistan \\\"in the time available\\\" \",\"She was supposed to be Afghanistan's first female Paralympian. Now, the Taliban has turned her dream into a \\\"nightmare.\\\" \",\"U.S. moves to reshape and speed up asylum processing along the southern border \",\"U.S. intelligence warned Afghan forces were increasingly fragile in run-up to Taliban takeover \",\"\\\"It's like your heart being torn out\\\": Veterans of the war in Afghanistan reflect on the fall of Kabul and two decades of war \",\"Death toll from Haiti earthquake climbs to 1,941, with over 9,900 injured \",\"A 10-foot python surprised a woman in a supermarket spice aisle. She was a trained snake catcher. \",\"With complex hopes and fears over Afghanistan, China likely to treat Taliban \\\"as an equal\\\" \",\"Taliban tightens grip on Kabul airport as thousands of Americans await evacuation \",\"Pope Francis urges people to get COVID-19 vaccine as \\\"an act of love\\\" \",\"U.S. grapples with fallout from Afghanistan withdrawal with Taliban back in control \",\"Human remains found in wheel well of U.S. military aircraft that departed Afghanistan \",\"Anger and evacuations as deadly wildfires char France and Greece \",\"Iran producing more uranium metal that can be used to make a nuclear bomb, U.N. watchdog says \",\"Former President George W. Bush says U.S. must help Afghan refugees \",\"Defense Secretary says military will \\\"get as many people out\\\" of Afghanistan \\\"in the time available\\\" \",\"She was supposed to be Afghanistan's first female Paralympian. Now, the Taliban has turned her dream into a \\\"nightmare.\\\" \",\"U.S. moves to reshape and speed up asylum processing along the southern border \",\"U.S. intelligence warned Afghan forces were increasingly fragile in run-up to Taliban takeover \",\"\\\"It's like your heart being torn out\\\": Veterans of the war in Afghanistan reflect on the fall of Kabul and two decades of war \",\"Tropical Depression Fred threatens mudslides and flash floods in upstate New York \",\"Biden to tie vaccines for nursing home staff to Medicare and Medicaid funding \",\"Former head of OxyContin maker Purdue Pharma denies blame for opioid crisis \",\"Texas school board adds masks to dress code to get around Gov. Abbott's ban on mask mandates in schools \",\"Satellite video shows the \\\"explosive growth\\\" of the Caldor Fire in California \",\"Biden to tie vaccines for nursing home staff to Medicare and Medicaid funding \",\"Defense Secretary says military will \\\"get as many people out\\\" of Afghanistan \\\"in the time available\\\" \",\"Justice Department says new Missouri gun law unconstitutional, hurts public safety \",\"Democrats say they'll probe \\\"worst-case scenario\\\" in Afghanistan \",\"Americans could owe $6.5 trillion for wars in Afghanistan and Iraq \\u2014 and that's just the interest \",\"Las Vegas Raiders to make fans prove they've been vaccinated \",\"T-Mobile says hackers stole personal data from millions of customers \",\"U.S. probing Autopilot problems on 765,000 Tesla vehicles \",\"Boeing gives up on near-term launch of Starliner space capsule \",\"Richard Branson sells $300 million in Virgin Galactic stock after rocket ride \",\"New hurricane-hunting drones deployed to help warn of intensifying storms: \\\"This could be transformational\\\" \",\"U.S. to recommend COVID-19 vaccine booster shots 8 months after second dose \",\"TSA to extend mask mandate through January 2022 \",\"Louisiana doctors fight surge in COVID patients and misinformation over vaccines: \\\"We have two pandemics\\\" \",\"Dixie Fire latest: Windy weather and power cuts bring new worries to Northern California residents \",\"Mandatory cutbacks in Colorado River water supply to hammer Arizona farmers \",\"Former head of OxyContin maker Purdue Pharma denies blame for opioid crisis \",\"You've been vaccinated. So what should you do with your vaccine record card? \",\"CDC warns of a \\\"significant decline\\\" in vaccine effectiveness for some, prompting booster dose decision \",\"Pope Francis urges people to get COVID-19 vaccine as \\\"an act of love\\\" \",\"U.S. to recommend COVID-19 vaccine booster shots 8 months after second dose \",\"Americans could owe $6.5 trillion for wars in Afghanistan and Iraq \\u2014 and that's just the interest \",\"T-Mobile says hackers stole personal data from millions of customers \",\"Methane emissions from oil and gas are even worse than previously thought \",\"Amid school bus driver shortages, one school offers parents $700 to drive their kids \",\"Even some Trump hotels are requiring masks again as COVID cases spread \",\"R. Kelly's criminal case gets underway in NYC as some accusers plan to testify \",\"Prosecutors learn 30-year secret that upends Tracey Harris murder trial \",\"Airbnb sues person who held unauthorized party where two were shot, one fatally \",\"Kenosha law enforcement enabled armed civilians to \\\"wreak havoc and inflict injury\\\" against protesters last summer, lawsuit claims \",\"Chicago pharmacist charged with selling COVID vaccination cards on eBay \",\"Boeing gives up on near-term launch of Starliner space capsule \",\"Richard Branson sells $300 million in Virgin Galactic stock after rocket ride \",\"Ultra-precise tracking virtually rules out near term impact by Bennu asteroid \",\"Northrop Grumman launches Cygnus cargo ship to space station \"],[\"health\",\"international news\",\"technology\",\"health\",\"government\",\"international news\",\"business\",\"politics\",\"government\",\"sports\",\"international news\",\"sports\",\"sports\",\"sports\",\"sports\",\"sports\",\"sports\",\"sports\",\"international news\",\"sports\",\"sports\",\"international news\",\"sports\",\"sports\",\"international news\",\"sports\",\"celebrity\",\"sports\",\"sports\",\"health\",\"sports\",\"sports\",\"sports\",\"international news\",\"sports\",\"government\",\"international news\",\"international news\",\"international news\",\"international news\",\"international news\",\"international news\",\"health\",\"international news\",\"international news\",\"international news\",\"international news\",\"international news\",\"international news\",\"sports\",\"government\",\"international news\",\"international news\",\"international news\",\"health\",\"business\",\"politics\",\"technology\",\"health\",\"international news\",\"government\",\"politics\",\"government\",\"sports\",\"business\",\"technology\",\"technology\",\"technology\",\"technology\",\"health\",\"business\",\"health\",\"international news\",\"business\",\"business\",\"health\",\"science\",\"health\",\"health\",\"government\",\"business\",\"science\",\"business\",\"international news\",\"international news\",\"international news\",\"business\",\"fitness\",\"health\",\"technology\",\"technology\",\"technology\",\"technology\"],[0.976821065,0.558106959,0.960740268,0.961519539,0.798262537,0.863757074,0.962716639,0.941818595,0.892224133,0.982828975,0.981074214,0.994038522,0.981705785,0.997727275,0.992959023,0.97231859,0.993936718,0.994820833,0.991754413,0.989672124,0.99684006,0.992154598,0.99584198,0.993154824,0.967446744,0.97996515,0.98450923,0.975810409,0.991699159,0.98893857,0.990328729,0.992042065,0.986919761,0.642029464,0.977072358,0.798262537,0.674337626,0.619522452,0.976946712,0.332077622,0.890188992,0.558106959,0.934952736,0.838901579,0.753624916,0.99725759,0.982385755,0.678543806,0.642029464,0.977072358,0.798262537,0.674337626,0.619522452,0.323044509,0.976821065,0.650806606,0.908571661,0.960740268,0.976821065,0.642029464,0.931133628,0.941818595,0.86373359,0.995946825,0.962716639,0.975137174,0.971731424,0.962334335,0.993920863,0.945382833,0.760297358,0.934951901,0.138296515,0.797862947,0.650806606,0.977892339,0.95521915,0.934952736,0.945382833,0.86373359,0.962716639,0.808354497,0.886245668,0.822963238,0.863757074,0.809739411,0.741117001,0.318791837,0.956116259,0.971731424,0.962334335,0.976714075,0.980690777]]},\"header\":{\"align\":\"left\",\"fill\":{\"color\":\"pink\"},\"values\":[\"number\",\"url\",\"title\",\"tag\",\"likelihood\"]},\"type\":\"table\"}],                        {\"template\":{\"data\":{\"bar\":[{\"error_x\":{\"color\":\"#2a3f5f\"},\"error_y\":{\"color\":\"#2a3f5f\"},\"marker\":{\"line\":{\"color\":\"#E5ECF6\",\"width\":0.5},\"pattern\":{\"fillmode\":\"overlay\",\"size\":10,\"solidity\":0.2}},\"type\":\"bar\"}],\"barpolar\":[{\"marker\":{\"line\":{\"color\":\"#E5ECF6\",\"width\":0.5},\"pattern\":{\"fillmode\":\"overlay\",\"size\":10,\"solidity\":0.2}},\"type\":\"barpolar\"}],\"carpet\":[{\"aaxis\":{\"endlinecolor\":\"#2a3f5f\",\"gridcolor\":\"white\",\"linecolor\":\"white\",\"minorgridcolor\":\"white\",\"startlinecolor\":\"#2a3f5f\"},\"baxis\":{\"endlinecolor\":\"#2a3f5f\",\"gridcolor\":\"white\",\"linecolor\":\"white\",\"minorgridcolor\":\"white\",\"startlinecolor\":\"#2a3f5f\"},\"type\":\"carpet\"}],\"choropleth\":[{\"colorbar\":{\"outlinewidth\":0,\"ticks\":\"\"},\"type\":\"choropleth\"}],\"contour\":[{\"colorbar\":{\"outlinewidth\":0,\"ticks\":\"\"},\"colorscale\":[[0.0,\"#0d0887\"],[0.1111111111111111,\"#46039f\"],[0.2222222222222222,\"#7201a8\"],[0.3333333333333333,\"#9c179e\"],[0.4444444444444444,\"#bd3786\"],[0.5555555555555556,\"#d8576b\"],[0.6666666666666666,\"#ed7953\"],[0.7777777777777778,\"#fb9f3a\"],[0.8888888888888888,\"#fdca26\"],[1.0,\"#f0f921\"]],\"type\":\"contour\"}],\"contourcarpet\":[{\"colorbar\":{\"outlinewidth\":0,\"ticks\":\"\"},\"type\":\"contourcarpet\"}],\"heatmap\":[{\"colorbar\":{\"outlinewidth\":0,\"ticks\":\"\"},\"colorscale\":[[0.0,\"#0d0887\"],[0.1111111111111111,\"#46039f\"],[0.2222222222222222,\"#7201a8\"],[0.3333333333333333,\"#9c179e\"],[0.4444444444444444,\"#bd3786\"],[0.5555555555555556,\"#d8576b\"],[0.6666666666666666,\"#ed7953\"],[0.7777777777777778,\"#fb9f3a\"],[0.8888888888888888,\"#fdca26\"],[1.0,\"#f0f921\"]],\"type\":\"heatmap\"}],\"heatmapgl\":[{\"colorbar\":{\"outlinewidth\":0,\"ticks\":\"\"},\"colorscale\":[[0.0,\"#0d0887\"],[0.1111111111111111,\"#46039f\"],[0.2222222222222222,\"#7201a8\"],[0.3333333333333333,\"#9c179e\"],[0.4444444444444444,\"#bd3786\"],[0.5555555555555556,\"#d8576b\"],[0.6666666666666666,\"#ed7953\"],[0.7777777777777778,\"#fb9f3a\"],[0.8888888888888888,\"#fdca26\"],[1.0,\"#f0f921\"]],\"type\":\"heatmapgl\"}],\"histogram\":[{\"marker\":{\"pattern\":{\"fillmode\":\"overlay\",\"size\":10,\"solidity\":0.2}},\"type\":\"histogram\"}],\"histogram2d\":[{\"colorbar\":{\"outlinewidth\":0,\"ticks\":\"\"},\"colorscale\":[[0.0,\"#0d0887\"],[0.1111111111111111,\"#46039f\"],[0.2222222222222222,\"#7201a8\"],[0.3333333333333333,\"#9c179e\"],[0.4444444444444444,\"#bd3786\"],[0.5555555555555556,\"#d8576b\"],[0.6666666666666666,\"#ed7953\"],[0.7777777777777778,\"#fb9f3a\"],[0.8888888888888888,\"#fdca26\"],[1.0,\"#f0f921\"]],\"type\":\"histogram2d\"}],\"histogram2dcontour\":[{\"colorbar\":{\"outlinewidth\":0,\"ticks\":\"\"},\"colorscale\":[[0.0,\"#0d0887\"],[0.1111111111111111,\"#46039f\"],[0.2222222222222222,\"#7201a8\"],[0.3333333333333333,\"#9c179e\"],[0.4444444444444444,\"#bd3786\"],[0.5555555555555556,\"#d8576b\"],[0.6666666666666666,\"#ed7953\"],[0.7777777777777778,\"#fb9f3a\"],[0.8888888888888888,\"#fdca26\"],[1.0,\"#f0f921\"]],\"type\":\"histogram2dcontour\"}],\"mesh3d\":[{\"colorbar\":{\"outlinewidth\":0,\"ticks\":\"\"},\"type\":\"mesh3d\"}],\"parcoords\":[{\"line\":{\"colorbar\":{\"outlinewidth\":0,\"ticks\":\"\"}},\"type\":\"parcoords\"}],\"pie\":[{\"automargin\":true,\"type\":\"pie\"}],\"scatter\":[{\"marker\":{\"colorbar\":{\"outlinewidth\":0,\"ticks\":\"\"}},\"type\":\"scatter\"}],\"scatter3d\":[{\"line\":{\"colorbar\":{\"outlinewidth\":0,\"ticks\":\"\"}},\"marker\":{\"colorbar\":{\"outlinewidth\":0,\"ticks\":\"\"}},\"type\":\"scatter3d\"}],\"scattercarpet\":[{\"marker\":{\"colorbar\":{\"outlinewidth\":0,\"ticks\":\"\"}},\"type\":\"scattercarpet\"}],\"scattergeo\":[{\"marker\":{\"colorbar\":{\"outlinewidth\":0,\"ticks\":\"\"}},\"type\":\"scattergeo\"}],\"scattergl\":[{\"marker\":{\"colorbar\":{\"outlinewidth\":0,\"ticks\":\"\"}},\"type\":\"scattergl\"}],\"scattermapbox\":[{\"marker\":{\"colorbar\":{\"outlinewidth\":0,\"ticks\":\"\"}},\"type\":\"scattermapbox\"}],\"scatterpolar\":[{\"marker\":{\"colorbar\":{\"outlinewidth\":0,\"ticks\":\"\"}},\"type\":\"scatterpolar\"}],\"scatterpolargl\":[{\"marker\":{\"colorbar\":{\"outlinewidth\":0,\"ticks\":\"\"}},\"type\":\"scatterpolargl\"}],\"scatterternary\":[{\"marker\":{\"colorbar\":{\"outlinewidth\":0,\"ticks\":\"\"}},\"type\":\"scatterternary\"}],\"surface\":[{\"colorbar\":{\"outlinewidth\":0,\"ticks\":\"\"},\"colorscale\":[[0.0,\"#0d0887\"],[0.1111111111111111,\"#46039f\"],[0.2222222222222222,\"#7201a8\"],[0.3333333333333333,\"#9c179e\"],[0.4444444444444444,\"#bd3786\"],[0.5555555555555556,\"#d8576b\"],[0.6666666666666666,\"#ed7953\"],[0.7777777777777778,\"#fb9f3a\"],[0.8888888888888888,\"#fdca26\"],[1.0,\"#f0f921\"]],\"type\":\"surface\"}],\"table\":[{\"cells\":{\"fill\":{\"color\":\"#EBF0F8\"},\"line\":{\"color\":\"white\"}},\"header\":{\"fill\":{\"color\":\"#C8D4E3\"},\"line\":{\"color\":\"white\"}},\"type\":\"table\"}]},\"layout\":{\"annotationdefaults\":{\"arrowcolor\":\"#2a3f5f\",\"arrowhead\":0,\"arrowwidth\":1},\"autotypenumbers\":\"strict\",\"coloraxis\":{\"colorbar\":{\"outlinewidth\":0,\"ticks\":\"\"}},\"colorscale\":{\"diverging\":[[0,\"#8e0152\"],[0.1,\"#c51b7d\"],[0.2,\"#de77ae\"],[0.3,\"#f1b6da\"],[0.4,\"#fde0ef\"],[0.5,\"#f7f7f7\"],[0.6,\"#e6f5d0\"],[0.7,\"#b8e186\"],[0.8,\"#7fbc41\"],[0.9,\"#4d9221\"],[1,\"#276419\"]],\"sequential\":[[0.0,\"#0d0887\"],[0.1111111111111111,\"#46039f\"],[0.2222222222222222,\"#7201a8\"],[0.3333333333333333,\"#9c179e\"],[0.4444444444444444,\"#bd3786\"],[0.5555555555555556,\"#d8576b\"],[0.6666666666666666,\"#ed7953\"],[0.7777777777777778,\"#fb9f3a\"],[0.8888888888888888,\"#fdca26\"],[1.0,\"#f0f921\"]],\"sequentialminus\":[[0.0,\"#0d0887\"],[0.1111111111111111,\"#46039f\"],[0.2222222222222222,\"#7201a8\"],[0.3333333333333333,\"#9c179e\"],[0.4444444444444444,\"#bd3786\"],[0.5555555555555556,\"#d8576b\"],[0.6666666666666666,\"#ed7953\"],[0.7777777777777778,\"#fb9f3a\"],[0.8888888888888888,\"#fdca26\"],[1.0,\"#f0f921\"]]},\"colorway\":[\"#636efa\",\"#EF553B\",\"#00cc96\",\"#ab63fa\",\"#FFA15A\",\"#19d3f3\",\"#FF6692\",\"#B6E880\",\"#FF97FF\",\"#FECB52\"],\"font\":{\"color\":\"#2a3f5f\"},\"geo\":{\"bgcolor\":\"white\",\"lakecolor\":\"white\",\"landcolor\":\"#E5ECF6\",\"showlakes\":true,\"showland\":true,\"subunitcolor\":\"white\"},\"hoverlabel\":{\"align\":\"left\"},\"hovermode\":\"closest\",\"mapbox\":{\"style\":\"light\"},\"paper_bgcolor\":\"white\",\"plot_bgcolor\":\"#E5ECF6\",\"polar\":{\"angularaxis\":{\"gridcolor\":\"white\",\"linecolor\":\"white\",\"ticks\":\"\"},\"bgcolor\":\"#E5ECF6\",\"radialaxis\":{\"gridcolor\":\"white\",\"linecolor\":\"white\",\"ticks\":\"\"}},\"scene\":{\"xaxis\":{\"backgroundcolor\":\"#E5ECF6\",\"gridcolor\":\"white\",\"gridwidth\":2,\"linecolor\":\"white\",\"showbackground\":true,\"ticks\":\"\",\"zerolinecolor\":\"white\"},\"yaxis\":{\"backgroundcolor\":\"#E5ECF6\",\"gridcolor\":\"white\",\"gridwidth\":2,\"linecolor\":\"white\",\"showbackground\":true,\"ticks\":\"\",\"zerolinecolor\":\"white\"},\"zaxis\":{\"backgroundcolor\":\"#E5ECF6\",\"gridcolor\":\"white\",\"gridwidth\":2,\"linecolor\":\"white\",\"showbackground\":true,\"ticks\":\"\",\"zerolinecolor\":\"white\"}},\"shapedefaults\":{\"line\":{\"color\":\"#2a3f5f\"}},\"ternary\":{\"aaxis\":{\"gridcolor\":\"white\",\"linecolor\":\"white\",\"ticks\":\"\"},\"baxis\":{\"gridcolor\":\"white\",\"linecolor\":\"white\",\"ticks\":\"\"},\"bgcolor\":\"#E5ECF6\",\"caxis\":{\"gridcolor\":\"white\",\"linecolor\":\"white\",\"ticks\":\"\"}},\"title\":{\"x\":0.05},\"xaxis\":{\"automargin\":true,\"gridcolor\":\"white\",\"linecolor\":\"white\",\"ticks\":\"\",\"title\":{\"standoff\":15},\"zerolinecolor\":\"white\",\"zerolinewidth\":2},\"yaxis\":{\"automargin\":true,\"gridcolor\":\"white\",\"linecolor\":\"white\",\"ticks\":\"\",\"title\":{\"standoff\":15},\"zerolinecolor\":\"white\",\"zerolinewidth\":2}}}},                        {\"responsive\": true}                    ).then(function(){\n",
       "                            \n",
       "var gd = document.getElementById('52c5e3c4-4f9d-471f-a4da-30fbd40c7b09');\n",
       "var x = new MutationObserver(function (mutations, observer) {{\n",
       "        var display = window.getComputedStyle(gd).display;\n",
       "        if (!display || display === 'none') {{\n",
       "            console.log([gd, 'removed!']);\n",
       "            Plotly.purge(gd);\n",
       "            observer.disconnect();\n",
       "        }}\n",
       "}});\n",
       "\n",
       "// Listen for the removal of the full notebook cells\n",
       "var notebookContainer = gd.closest('#notebook-container');\n",
       "if (notebookContainer) {{\n",
       "    x.observe(notebookContainer, {childList: true});\n",
       "}}\n",
       "\n",
       "// Listen for the clearing of the current output cell\n",
       "var outputEl = gd.closest('.output');\n",
       "if (outputEl) {{\n",
       "    x.observe(outputEl, {childList: true});\n",
       "}}\n",
       "\n",
       "                        })                };                });            </script>        </div>"
      ]
     },
     "metadata": {},
     "output_type": "display_data"
    }
   ],
   "source": [
    "import plotly.graph_objects as go\n",
    "import pandas as pd\n",
    "\n",
    "df = pd.read_csv('newsArticleScraping.csv')\n",
    "\n",
    "fig = go.Figure(data=[go.Table(\n",
    "    header=dict(values=list(df.columns),\n",
    "                fill_color='pink',\n",
    "                align='left'),\n",
    "    cells=dict(values=[df.number, df.url, df.title, df.tag, df.likelihood],\n",
    "               fill_color='lightblue',\n",
    "               align='left'))\n",
    "])\n",
    "\n",
    "fig.show()"
   ]
  },
  {
   "cell_type": "code",
   "execution_count": null,
   "metadata": {
    "extensions": {
     "jupyter_dashboards": {
      "version": 1,
      "views": {
       "grid_default": {},
       "report_default": {}
      }
     }
    }
   },
   "outputs": [],
   "source": []
  }
 ],
 "metadata": {
  "extensions": {
   "jupyter_dashboards": {
    "activeView": "grid_default",
    "version": 1,
    "views": {
     "grid_default": {
      "cellMargin": 10,
      "defaultCellHeight": 20,
      "maxColumns": 12,
      "name": "grid",
      "type": "grid"
     },
     "report_default": {
      "name": "report",
      "type": "report"
     }
    }
   }
  },
  "kernelspec": {
   "display_name": "Python 3 (ipykernel)",
   "language": "python",
   "name": "python3"
  },
  "language_info": {
   "codemirror_mode": {
    "name": "ipython",
    "version": 3
   },
   "file_extension": ".py",
   "mimetype": "text/x-python",
   "name": "python",
   "nbconvert_exporter": "python",
   "pygments_lexer": "ipython3",
   "version": "3.8.10"
  }
 },
 "nbformat": 4,
 "nbformat_minor": 4
}
